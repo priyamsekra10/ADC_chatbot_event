{
  "cells": [
    {
      "cell_type": "markdown",
      "id": "c32c2e55",
      "metadata": {
        "id": "c32c2e55"
      },
      "source": [
        "# Chatbot tutorial\n",
        "## A basic chatbot to answer queries of Customers of HDFC Bank.\n",
        "### Data Source: [Click here](https://github.com/priyamsekra10/ADC_chatbot_event)"
      ]
    },
    {
      "cell_type": "markdown",
      "id": "77dfb354",
      "metadata": {
        "id": "77dfb354"
      },
      "source": [
        "### Import necessary libraries"
      ]
    },
    {
      "cell_type": "code",
      "execution_count": null,
      "id": "8f740f26",
      "metadata": {
        "id": "8f740f26"
      },
      "outputs": [],
      "source": [
        "import pandas as pd\n",
        "import numpy as np\n",
        "import string\n",
        "import re\n",
        "import nltk\n",
        "import json\n",
        "from nltk.stem import WordNetLemmatizer\n",
        "from nltk.corpus import stopwords\n",
        "from sklearn.feature_extraction.text import CountVectorizer\n",
        "from sklearn.feature_extraction.text import TfidfVectorizer\n",
        "from sklearn.preprocessing import LabelEncoder, label_binarize\n",
        "from sklearn.linear_model import SGDClassifier\n",
        "from collections import Counter\n",
        "import nlpaug.augmenter.word as naw\n",
        "from tqdm import tqdm\n",
        "from sklearn.model_selection import train_test_split\n",
        "from sklearn.metrics import precision_score, recall_score, accuracy_score, roc_auc_score"
      ]
    },
    {
      "cell_type": "code",
      "source": [
        "!pip install nlpaug"
      ],
      "metadata": {
        "colab": {
          "base_uri": "https://localhost:8080/"
        },
        "id": "GJ64-qXDXoHk",
        "outputId": "1321ad11-d50a-4efb-ffc0-d015ffba7611"
      },
      "id": "GJ64-qXDXoHk",
      "execution_count": null,
      "outputs": [
        {
          "output_type": "stream",
          "name": "stdout",
          "text": [
            "Requirement already satisfied: nlpaug in /usr/local/lib/python3.10/dist-packages (1.1.11)\n",
            "Requirement already satisfied: numpy>=1.16.2 in /usr/local/lib/python3.10/dist-packages (from nlpaug) (1.23.5)\n",
            "Requirement already satisfied: pandas>=1.2.0 in /usr/local/lib/python3.10/dist-packages (from nlpaug) (1.5.3)\n",
            "Requirement already satisfied: requests>=2.22.0 in /usr/local/lib/python3.10/dist-packages (from nlpaug) (2.31.0)\n",
            "Requirement already satisfied: gdown>=4.0.0 in /usr/local/lib/python3.10/dist-packages (from nlpaug) (4.6.6)\n",
            "Requirement already satisfied: filelock in /usr/local/lib/python3.10/dist-packages (from gdown>=4.0.0->nlpaug) (3.12.2)\n",
            "Requirement already satisfied: six in /usr/local/lib/python3.10/dist-packages (from gdown>=4.0.0->nlpaug) (1.16.0)\n",
            "Requirement already satisfied: tqdm in /usr/local/lib/python3.10/dist-packages (from gdown>=4.0.0->nlpaug) (4.66.1)\n",
            "Requirement already satisfied: beautifulsoup4 in /usr/local/lib/python3.10/dist-packages (from gdown>=4.0.0->nlpaug) (4.11.2)\n",
            "Requirement already satisfied: python-dateutil>=2.8.1 in /usr/local/lib/python3.10/dist-packages (from pandas>=1.2.0->nlpaug) (2.8.2)\n",
            "Requirement already satisfied: pytz>=2020.1 in /usr/local/lib/python3.10/dist-packages (from pandas>=1.2.0->nlpaug) (2023.3.post1)\n",
            "Requirement already satisfied: charset-normalizer<4,>=2 in /usr/local/lib/python3.10/dist-packages (from requests>=2.22.0->nlpaug) (3.2.0)\n",
            "Requirement already satisfied: idna<4,>=2.5 in /usr/local/lib/python3.10/dist-packages (from requests>=2.22.0->nlpaug) (3.4)\n",
            "Requirement already satisfied: urllib3<3,>=1.21.1 in /usr/local/lib/python3.10/dist-packages (from requests>=2.22.0->nlpaug) (2.0.4)\n",
            "Requirement already satisfied: certifi>=2017.4.17 in /usr/local/lib/python3.10/dist-packages (from requests>=2.22.0->nlpaug) (2023.7.22)\n",
            "Requirement already satisfied: soupsieve>1.2 in /usr/local/lib/python3.10/dist-packages (from beautifulsoup4->gdown>=4.0.0->nlpaug) (2.5)\n",
            "Requirement already satisfied: PySocks!=1.5.7,>=1.5.6 in /usr/local/lib/python3.10/dist-packages (from requests>=2.22.0->nlpaug) (1.7.1)\n"
          ]
        }
      ]
    },
    {
      "cell_type": "code",
      "execution_count": null,
      "id": "6bac9240",
      "metadata": {
        "colab": {
          "base_uri": "https://localhost:8080/"
        },
        "id": "6bac9240",
        "outputId": "e342d015-a6b3-42da-e31c-1a4cba774ff7"
      },
      "outputs": [
        {
          "output_type": "stream",
          "name": "stderr",
          "text": [
            "[nltk_data] Downloading package punkt to /root/nltk_data...\n",
            "[nltk_data]   Package punkt is already up-to-date!\n",
            "[nltk_data] Downloading package wordnet to /root/nltk_data...\n",
            "[nltk_data]   Package wordnet is already up-to-date!\n",
            "[nltk_data] Downloading package stopwords to /root/nltk_data...\n",
            "[nltk_data]   Package stopwords is already up-to-date!\n"
          ]
        },
        {
          "output_type": "execute_result",
          "data": {
            "text/plain": [
              "True"
            ]
          },
          "metadata": {},
          "execution_count": 3
        }
      ],
      "source": [
        "nltk.download('punkt')\n",
        "nltk.download('wordnet')\n",
        "nltk.download('stopwords')"
      ]
    },
    {
      "cell_type": "markdown",
      "id": "2fddbd75",
      "metadata": {
        "id": "2fddbd75"
      },
      "source": [
        "## Loading Dataset"
      ]
    },
    {
      "cell_type": "code",
      "execution_count": null,
      "id": "b0aef96b",
      "metadata": {
        "id": "b0aef96b"
      },
      "outputs": [],
      "source": []
    },
    {
      "cell_type": "code",
      "source": [],
      "metadata": {
        "id": "K5S9dh0xR4a2"
      },
      "id": "K5S9dh0xR4a2",
      "execution_count": null,
      "outputs": []
    },
    {
      "cell_type": "code",
      "source": [],
      "metadata": {
        "id": "oz5BxbYhR4iH"
      },
      "id": "oz5BxbYhR4iH",
      "execution_count": null,
      "outputs": []
    },
    {
      "cell_type": "code",
      "execution_count": null,
      "id": "56c3c212",
      "metadata": {
        "scrolled": true,
        "id": "56c3c212"
      },
      "outputs": [],
      "source": []
    },
    {
      "cell_type": "markdown",
      "id": "d1d8afe2",
      "metadata": {
        "id": "d1d8afe2"
      },
      "source": [
        "## Preprocessing Phase"
      ]
    },
    {
      "cell_type": "code",
      "execution_count": null,
      "id": "3a47d178",
      "metadata": {
        "id": "3a47d178"
      },
      "outputs": [],
      "source": []
    },
    {
      "cell_type": "code",
      "source": [],
      "metadata": {
        "id": "2fUPAJGFR5KC"
      },
      "id": "2fUPAJGFR5KC",
      "execution_count": null,
      "outputs": []
    },
    {
      "cell_type": "code",
      "source": [],
      "metadata": {
        "id": "wVuRmISdR5MZ"
      },
      "id": "wVuRmISdR5MZ",
      "execution_count": null,
      "outputs": []
    },
    {
      "cell_type": "code",
      "source": [],
      "metadata": {
        "id": "Xv4aQDmGR5Qp"
      },
      "id": "Xv4aQDmGR5Qp",
      "execution_count": null,
      "outputs": []
    },
    {
      "cell_type": "code",
      "execution_count": null,
      "id": "1fc019ef",
      "metadata": {
        "id": "1fc019ef"
      },
      "outputs": [],
      "source": []
    },
    {
      "cell_type": "code",
      "execution_count": null,
      "id": "f4a55ddd",
      "metadata": {
        "id": "f4a55ddd"
      },
      "outputs": [],
      "source": []
    },
    {
      "cell_type": "code",
      "source": [],
      "metadata": {
        "id": "Yg2TnMBWZ9JT"
      },
      "id": "Yg2TnMBWZ9JT",
      "execution_count": null,
      "outputs": []
    },
    {
      "cell_type": "code",
      "execution_count": null,
      "id": "bafb60fe",
      "metadata": {
        "id": "bafb60fe"
      },
      "outputs": [],
      "source": []
    },
    {
      "cell_type": "markdown",
      "source": [
        "# Data Augmentation\n",
        "## increase the diversity and quantity of training data\n",
        "## how:\n",
        "\n",
        "*   Pre trained models\n",
        "*   reshuffling sentences\n",
        "*   replace words by there synonyms\n",
        "\n"
      ],
      "metadata": {
        "id": "5LyD7A5sd8b5"
      },
      "id": "5LyD7A5sd8b5"
    },
    {
      "cell_type": "code",
      "execution_count": 3,
      "id": "e6638efc",
      "metadata": {
        "id": "e6638efc"
      },
      "outputs": [],
      "source": [
        "# download the GloVe word vectors dataset\n",
        "!wget http://nlp.stanford.edu/data/glove.6B.zip"
      ]
    },
    {
      "cell_type": "code",
      "source": [
        "!unzip glove*.zip"
      ],
      "metadata": {
        "id": "Kyr6E0Eh_Na_"
      },
      "id": "Kyr6E0Eh_Na_",
      "execution_count": 4,
      "outputs": []
    },
    {
      "cell_type": "markdown",
      "source": [
        "## Word embeddings are vector representations of words in a multi-dimensional space, capable of capturing semantic relationships between words."
      ],
      "metadata": {
        "id": "LDTVhhzHeRMF"
      },
      "id": "LDTVhhzHeRMF"
    },
    {
      "cell_type": "code",
      "execution_count": null,
      "id": "d4c3e063",
      "metadata": {
        "scrolled": true,
        "id": "d4c3e063"
      },
      "outputs": [],
      "source": []
    },
    {
      "cell_type": "code",
      "execution_count": 5,
      "id": "6cdf9495",
      "metadata": {
        "id": "6cdf9495"
      },
      "outputs": [],
      "source": []
    },
    {
      "cell_type": "code",
      "execution_count": null,
      "id": "46d7cea2",
      "metadata": {
        "id": "46d7cea2"
      },
      "outputs": [],
      "source": [
        "\n"
      ]
    },
    {
      "cell_type": "code",
      "execution_count": null,
      "id": "945c1fc5",
      "metadata": {
        "id": "945c1fc5"
      },
      "outputs": [],
      "source": []
    },
    {
      "cell_type": "code",
      "source": [],
      "metadata": {
        "id": "Bc_NLaoUR6dH"
      },
      "id": "Bc_NLaoUR6dH",
      "execution_count": null,
      "outputs": []
    },
    {
      "cell_type": "code",
      "source": [],
      "metadata": {
        "id": "2UTgECXxR6fX"
      },
      "id": "2UTgECXxR6fX",
      "execution_count": null,
      "outputs": []
    },
    {
      "cell_type": "code",
      "source": [],
      "metadata": {
        "id": "fy65a-Xz7tnS"
      },
      "id": "fy65a-Xz7tnS",
      "execution_count": null,
      "outputs": []
    },
    {
      "cell_type": "code",
      "execution_count": null,
      "id": "172aafbb",
      "metadata": {
        "id": "172aafbb"
      },
      "outputs": [],
      "source": []
    },
    {
      "cell_type": "markdown",
      "id": "ff11c0d0",
      "metadata": {
        "id": "ff11c0d0"
      },
      "source": [
        "## Model Building Phase"
      ]
    },
    {
      "cell_type": "code",
      "execution_count": null,
      "id": "a41d8abd",
      "metadata": {
        "id": "a41d8abd"
      },
      "outputs": [],
      "source": []
    },
    {
      "cell_type": "code",
      "execution_count": null,
      "id": "cfe76f64",
      "metadata": {
        "id": "cfe76f64"
      },
      "outputs": [],
      "source": []
    },
    {
      "cell_type": "code",
      "source": [],
      "metadata": {
        "id": "3uGPG_bYR7JP"
      },
      "id": "3uGPG_bYR7JP",
      "execution_count": null,
      "outputs": []
    },
    {
      "cell_type": "code",
      "source": [],
      "metadata": {
        "id": "j9Gy-5ncR7Li"
      },
      "id": "j9Gy-5ncR7Li",
      "execution_count": null,
      "outputs": []
    },
    {
      "cell_type": "code",
      "execution_count": null,
      "id": "03b2d465",
      "metadata": {
        "id": "03b2d465"
      },
      "outputs": [],
      "source": []
    },
    {
      "cell_type": "code",
      "execution_count": null,
      "id": "53a7eab1",
      "metadata": {
        "id": "53a7eab1"
      },
      "outputs": [],
      "source": []
    },
    {
      "cell_type": "code",
      "execution_count": null,
      "id": "b76c94a6",
      "metadata": {
        "id": "b76c94a6"
      },
      "outputs": [],
      "source": []
    },
    {
      "cell_type": "markdown",
      "source": [
        "### TF-IDF (Term Frequency-Inverse Document Frequency) is a numerical representation of text data that measures the importance of words in a document relative to a collection of documents. It's commonly used in information retrieval, text mining, and natural language processing to identify the significance of words for text analysis and search."
      ],
      "metadata": {
        "id": "UELyxamuryUJ"
      },
      "id": "UELyxamuryUJ"
    },
    {
      "cell_type": "code",
      "execution_count": null,
      "id": "e4bb8b8b",
      "metadata": {
        "id": "e4bb8b8b"
      },
      "outputs": [],
      "source": []
    },
    {
      "cell_type": "code",
      "source": [],
      "metadata": {
        "id": "wu7gKtIJ8rKd"
      },
      "id": "wu7gKtIJ8rKd",
      "execution_count": null,
      "outputs": []
    },
    {
      "cell_type": "code",
      "execution_count": null,
      "id": "c34edc0d",
      "metadata": {
        "id": "c34edc0d"
      },
      "outputs": [],
      "source": []
    },
    {
      "cell_type": "code",
      "execution_count": null,
      "id": "8f1764f3",
      "metadata": {
        "id": "8f1764f3"
      },
      "outputs": [],
      "source": []
    },
    {
      "cell_type": "code",
      "source": [],
      "metadata": {
        "id": "e6zGH_xvR8c_"
      },
      "id": "e6zGH_xvR8c_",
      "execution_count": null,
      "outputs": []
    },
    {
      "cell_type": "code",
      "execution_count": null,
      "id": "ed20e515",
      "metadata": {
        "id": "ed20e515"
      },
      "outputs": [],
      "source": []
    },
    {
      "cell_type": "code",
      "execution_count": null,
      "id": "85ce3bc4",
      "metadata": {
        "id": "85ce3bc4"
      },
      "outputs": [],
      "source": []
    },
    {
      "cell_type": "code",
      "execution_count": null,
      "id": "5b94dc76",
      "metadata": {
        "id": "5b94dc76"
      },
      "outputs": [],
      "source": []
    },
    {
      "cell_type": "markdown",
      "id": "52f14335",
      "metadata": {
        "id": "52f14335"
      },
      "source": [
        "## Testing Phase"
      ]
    },
    {
      "cell_type": "code",
      "execution_count": 1,
      "id": "929a9a6b",
      "metadata": {
        "id": "929a9a6b"
      },
      "outputs": [],
      "source": []
    },
    {
      "cell_type": "code",
      "execution_count": 2,
      "id": "57129586",
      "metadata": {
        "id": "57129586"
      },
      "outputs": [],
      "source": []
    },
    {
      "cell_type": "code",
      "source": [],
      "metadata": {
        "id": "imFHBggrFW7R"
      },
      "id": "imFHBggrFW7R",
      "execution_count": null,
      "outputs": []
    }
  ],
  "metadata": {
    "kernelspec": {
      "display_name": "Python 3 (ipykernel)",
      "language": "python",
      "name": "python3"
    },
    "language_info": {
      "codemirror_mode": {
        "name": "ipython",
        "version": 3
      },
      "file_extension": ".py",
      "mimetype": "text/x-python",
      "name": "python",
      "nbconvert_exporter": "python",
      "pygments_lexer": "ipython3",
      "version": "3.10.12"
    },
    "colab": {
      "provenance": []
    }
  },
  "nbformat": 4,
  "nbformat_minor": 5
}